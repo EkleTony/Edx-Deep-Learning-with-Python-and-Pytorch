{
  "nbformat": 4,
  "nbformat_minor": 0,
  "metadata": {
    "colab": {
      "name": "10 DeepNeuralNetworks.ipynb",
      "provenance": []
    },
    "kernelspec": {
      "name": "python3",
      "display_name": "Python 3"
    },
    "language_info": {
      "name": "python"
    }
  },
  "cells": [
    {
      "cell_type": "markdown",
      "metadata": {
        "id": "dIDZYoYEIAe2"
      },
      "source": [
        "# Hidden Layer Deep Network: Sigmoid, Tanh and Relu Activations Functions MNIST Dataset\n",
        "## Table of Contents\n",
        "In this lab, you will test Sigmoid, Tanh and Relu activation functions on the MNIST dataset with two hidden Layers.\n",
        "\n",
        "* Neural Network Module and Training Function\n",
        "* Make Some Data\n",
        "* Define Several Neural Network,\n",
        "* Criterion function, Optimizer\n",
        "* Test Sigmoid ,Tanh and Relu\n",
        "* Analyse Results"
      ]
    },
    {
      "cell_type": "code",
      "metadata": {
        "colab": {
          "base_uri": "https://localhost:8080/"
        },
        "id": "cpVZfCLFIM9K",
        "outputId": "ebbe2188-b6c8-4928-80e5-c013cfb8a5b1"
      },
      "source": [
        "# Import the libraries we need for this lab\n",
        "\n",
        "import torch\n",
        "import torch.nn as nn\n",
        "import torchvision.transforms as transforms\n",
        "import torchvision.datasets as dsets\n",
        "import matplotlib.pylab as plt\n",
        "import numpy as np\n",
        "torch.manual_seed(2)"
      ],
      "execution_count": 28,
      "outputs": [
        {
          "output_type": "execute_result",
          "data": {
            "text/plain": [
              "<torch._C.Generator at 0x7f25328dad10>"
            ]
          },
          "metadata": {},
          "execution_count": 28
        }
      ]
    },
    {
      "cell_type": "markdown",
      "metadata": {
        "id": "rTL-VmOpKxOx"
      },
      "source": [
        "<h2 id=\"Model\">Neural Network Module and Training Function</h2> "
      ]
    },
    {
      "cell_type": "code",
      "metadata": {
        "id": "L5QcptLuKH9z"
      },
      "source": [
        "# create the model class using sigmoid as the activation function\n",
        "\n",
        "class Net(nn.Module):\n",
        "  # Constructor\n",
        "  def __init__(self, D_in, H1, H2, D_out):\n",
        "    super(Net, self).__init__()\n",
        "    self.linear1 = nn.Linear(D_in, H1)\n",
        "    self.linear2 = nn.Linear(H1, H2)\n",
        "    self.linear3 = nn.Linear(H2, D_out)\n",
        "\n",
        "  # Prediction\n",
        "  def forward(self, x):\n",
        "    x = torch.sigmoid(self.linear1(x))\n",
        "    x = torch.sigmoid(self.linear2(x))\n",
        "    x = self.linear3(x)\n",
        "\n",
        "    return x"
      ],
      "execution_count": 3,
      "outputs": []
    },
    {
      "cell_type": "markdown",
      "metadata": {
        "id": "1XrOpWj_MlrM"
      },
      "source": [
        "Define the class with the Tanh activation function"
      ]
    },
    {
      "cell_type": "code",
      "metadata": {
        "id": "Hw1rdV33McPt"
      },
      "source": [
        "# Create the model class using Tanh as a activation function\n",
        "\n",
        "class NetTanh(nn.Module):\n",
        "\n",
        "  # Constructor\n",
        "  def __init__(self, D_in, H1, H2, D_out):\n",
        "    super(NetTanh, self).__init__()\n",
        "    self.linear1 = nn.Linear(D_in, H1)\n",
        "    self.linear2 = nn.Linear(H1, H2)\n",
        "    self.linear3 = nn.Linear(H2, D_out)\n",
        "\n",
        "  # Prediction\n",
        "  def forward(self, x):\n",
        "    x = torch.tanh(self.linear1(x))\n",
        "    x = torch.tanh(self.linear2(x))\n",
        "    x = self.linear3(x)\n",
        "    return x"
      ],
      "execution_count": 4,
      "outputs": []
    },
    {
      "cell_type": "markdown",
      "metadata": {
        "id": "j98AtJpzN6Dn"
      },
      "source": [
        "Define the class for the Relu activation function"
      ]
    },
    {
      "cell_type": "code",
      "metadata": {
        "id": "hQJcTdsZNgJb"
      },
      "source": [
        "# Create the model class using Relu as a activation function\n",
        "\n",
        "class NetRelu(nn.Module):\n",
        "    \n",
        "    # Constructor\n",
        "    def __init__(self, D_in, H1, H2, D_out):\n",
        "        super(NetRelu, self).__init__()\n",
        "        self.linear1 = nn.Linear(D_in, H1)\n",
        "        self.linear2 = nn.Linear(H1, H2)\n",
        "        self.linear3 = nn.Linear(H2, D_out)\n",
        "    \n",
        "    # Prediction\n",
        "    def forward(self, x):\n",
        "        x = torch.relu(self.linear1(x))  \n",
        "        x = torch.relu(self.linear2(x))\n",
        "        x = self.linear3(x)\n",
        "        return x"
      ],
      "execution_count": 30,
      "outputs": []
    },
    {
      "cell_type": "markdown",
      "metadata": {
        "id": "QEotG-BcODII"
      },
      "source": [
        "Define a function to train the model, in this case the function returns a Python dictionary to store the training loss and accuracy on the validation data"
      ]
    },
    {
      "cell_type": "code",
      "metadata": {
        "id": "iehlrsMdOA3-"
      },
      "source": [
        "# Train the model\n",
        "\n",
        "def train(model, criterion, train_loader, validation_loader, optimizer, epochs =100):\n",
        "  i =0\n",
        "  useful_stuff = {'training_loss': [], 'validation_accuracy': []}\n",
        "\n",
        "  for epoch in range(epochs):\n",
        "    for i, (x,y) in enumerate(train_loader):\n",
        "      optimizer.zero_grad()\n",
        "      z = model(x.view(-1, 28 * 28))\n",
        "      loss = criterion(z,y)\n",
        "      loss.backward()\n",
        "      optimizer.step()\n",
        "      useful_stuff['training_loss'].append(loss.data.item())\n",
        "\n",
        "    correct = 0\n",
        "    for x, y in validation_loader:\n",
        "      z = model(x.view(-1, 28 * 28))\n",
        "      _, label = torch.max(z, 1)\n",
        "      correct += (label ==y).sum().item()\n",
        "\n",
        "    accuracy = 100 * (correct / len(validation_dataset))\n",
        "    useful_stuff['validation_accuracy'].append(accuracy)\n",
        "  return useful_stuff\n"
      ],
      "execution_count": 16,
      "outputs": []
    },
    {
      "cell_type": "markdown",
      "metadata": {
        "id": "43J5FqpHPvnn"
      },
      "source": [
        "# Make Some Data\n",
        "Load the training dataset by setting the parameters `train` to `True` and convert it to a tensor by placing a transform object int the argument transform"
      ]
    },
    {
      "cell_type": "code",
      "metadata": {
        "id": "4ftkTfJyPtQI"
      },
      "source": [
        "# Create the training dataset\n",
        "\n",
        "train_dataset = dsets.MNIST(root='./data', train=True, download=True, transform=transforms.ToTensor())"
      ],
      "execution_count": 17,
      "outputs": []
    },
    {
      "cell_type": "code",
      "metadata": {
        "id": "_AppNjUKP_EB"
      },
      "source": [
        "# Create the validating dataset\n",
        "\n",
        "validation_dataset = dsets.MNIST(root='./data', train=False, download=True, transform=transforms.ToTensor())"
      ],
      "execution_count": 18,
      "outputs": []
    },
    {
      "cell_type": "markdown",
      "metadata": {
        "id": "WMCSCs_fQDra"
      },
      "source": [
        "Create the criterion function"
      ]
    },
    {
      "cell_type": "code",
      "metadata": {
        "id": "1naFYcCpP6cp"
      },
      "source": [
        "criterion = nn.CrossEntropyLoss()"
      ],
      "execution_count": 19,
      "outputs": []
    },
    {
      "cell_type": "markdown",
      "metadata": {
        "id": "XesnzQGYQNIz"
      },
      "source": [
        "Create the training-data loader and the validation-data loader object "
      ]
    },
    {
      "cell_type": "code",
      "metadata": {
        "id": "dI-gZyROQJIz"
      },
      "source": [
        "# Create the training data loader and validation data loader object\n",
        "\n",
        "train_loader = torch.utils.data.DataLoader(dataset=train_dataset, batch_size=2000, shuffle=True)\n",
        "validation_loader = torch.utils.data.DataLoader(dataset=validation_dataset, batch_size=5000, shuffle=False)"
      ],
      "execution_count": 20,
      "outputs": []
    },
    {
      "cell_type": "markdown",
      "metadata": {
        "id": "chBa5r8-QohZ"
      },
      "source": [
        "# Define Neural Network, Criterion function, Optimizer and Train the Model¶\n",
        "Create the model with 100 hidden layers"
      ]
    },
    {
      "cell_type": "code",
      "metadata": {
        "id": "PCgzDQSTQpGp"
      },
      "source": [
        "# Set the parameters for create the model\n",
        "\n",
        "input_dim = 28 * 28\n",
        "hidden_dim1 = 50\n",
        "hidden_dim2 = 50\n",
        "output_dim = 10"
      ],
      "execution_count": 21,
      "outputs": []
    },
    {
      "cell_type": "code",
      "metadata": {
        "id": "LNaYYmeIRWAH"
      },
      "source": [
        "# Set the number of iterations\n",
        "\n",
        "cust_epochs = 25"
      ],
      "execution_count": 36,
      "outputs": []
    },
    {
      "cell_type": "markdown",
      "metadata": {
        "id": "Hvk8eohURgV-"
      },
      "source": [
        "#Test Sigmoid ,Tanh and Relu"
      ]
    },
    {
      "cell_type": "code",
      "metadata": {
        "id": "OgPZCC3lRbv9"
      },
      "source": [
        "#train_dataset"
      ],
      "execution_count": 37,
      "outputs": []
    },
    {
      "cell_type": "code",
      "metadata": {
        "id": "1_1wh083jixc"
      },
      "source": [
        "# Train the model with sigmoid function\n",
        "\n",
        "learning_rate = 0.01\n",
        "model = Net(input_dim, hidden_dim1, hidden_dim2, output_dim)\n",
        "optimizer = torch.optim.SGD(model.parameters(), lr=learning_rate)\n",
        "training_results = train(model, criterion, train_loader, validation_loader, optimizer, epochs=cust_epochs)"
      ],
      "execution_count": 38,
      "outputs": []
    },
    {
      "cell_type": "markdown",
      "metadata": {
        "id": "MKqgNx78mTab"
      },
      "source": [
        ""
      ]
    },
    {
      "cell_type": "markdown",
      "metadata": {
        "id": "IVCSaPLkju6P"
      },
      "source": [
        "Train the network using the Tanh activation function"
      ]
    },
    {
      "cell_type": "code",
      "metadata": {
        "id": "-6Q4PRwWkHAO"
      },
      "source": [
        "# Train the model with tanh function\n",
        "\n",
        "learning_rate = 0.01\n",
        "model_Tanh = NetTanh(input_dim, hidden_dim1, hidden_dim2, output_dim)\n",
        "optimizer = torch.optim.SGD(model_Tanh.parameters(), lr=learning_rate)\n",
        "training_results_tanch = train(model_Tanh, criterion, train_loader, validation_loader, optimizer, epochs=cust_epochs)"
      ],
      "execution_count": 39,
      "outputs": []
    },
    {
      "cell_type": "markdown",
      "metadata": {
        "id": "r__j2-KwkePw"
      },
      "source": [
        "Train the network using the Relu activation function"
      ]
    },
    {
      "cell_type": "code",
      "metadata": {
        "id": "k8aHvyfkkZiu"
      },
      "source": [
        "# Train the model with relu function\n",
        "\n",
        "learning_rate = 0.01\n",
        "modelRelu = NetRelu(input_dim, hidden_dim1, hidden_dim2, output_dim)\n",
        "optimizer = torch.optim.SGD(modelRelu.parameters(), lr=learning_rate)\n",
        "training_results_relu = train(modelRelu, criterion, train_loader, validation_loader, optimizer, epochs=cust_epochs)"
      ],
      "execution_count": 40,
      "outputs": []
    },
    {
      "cell_type": "markdown",
      "metadata": {
        "id": "yXO6tft3klIP"
      },
      "source": [
        "# Analyze Results"
      ]
    },
    {
      "cell_type": "code",
      "metadata": {
        "id": "ifD4mAd4khWS"
      },
      "source": [
        "# Compare the training loss\n",
        "\n",
        "plt.plot(training_results_tanch['training_loss'], label='tanh')\n",
        "plt.plot(training_results['training_loss'], label='sigmoid')\n",
        "plt.plot(training_results_relu['training_loss'], label='relu')\n",
        "plt.ylabel('loss')\n",
        "plt.title('training loss iterations')\n",
        "plt.legend()"
      ],
      "execution_count": null,
      "outputs": []
    },
    {
      "cell_type": "markdown",
      "metadata": {
        "id": "HzF4eThel-lP"
      },
      "source": [
        "Compare the validation loss for each model"
      ]
    },
    {
      "cell_type": "code",
      "metadata": {
        "colab": {
          "base_uri": "https://localhost:8080/",
          "height": 577
        },
        "id": "Najnr2Sykrot",
        "outputId": "760791b3-a880-4e8d-aab8-7ee9d31e8c8a"
      },
      "source": [
        "# Compare the validation loss\n",
        "\n",
        "plt.plot(training_results_tanch['validation_accuracy'], label = 'tanh')\n",
        "plt.plot(training_results['validation_accuracy'], label = 'sigmoid')\n",
        "plt.plot(training_results_relu['validation_accuracy'], label = 'relu') \n",
        "plt.ylabel('validation accuracy')\n",
        "plt.xlabel('Iteration')   \n",
        "plt.legend()"
      ],
      "execution_count": 42,
      "outputs": [
        {
          "data": {
            "text/plain": [
              "<matplotlib.legend.Legend at 0x7f252f180d50>"
            ]
          },
          "execution_count": null,
          "metadata": {},
          "output_type": "execute_result"
        },
        {
          "data": {
            "image/png": "[encoded data removed]",
            "text/plain": [
              "<Figure size 432x288 with 1 Axes>"
            ]
          },
          "metadata": {},
          "output_type": "display_data"
        },
        {
          "output_type": "execute_result",
          "data": {
            "text/plain": [
              "<matplotlib.legend.Legend at 0x7f252f180d50>"
            ]
          },
          "metadata": {},
          "execution_count": 42
        },
        {
          "output_type": "display_data",
          "data": {
            "image/png": "[encoded data removed]",
            "text/plain": [
              "<Figure size 432x288 with 1 Axes>"
            ]
          },
          "metadata": {
            "needs_background": "light"
          }
        }
      ]
    },
    {
      "cell_type": "code",
      "metadata": {
        "id": "iBJCIRjumBxJ"
      },
      "source": [
        ""
      ],
      "execution_count": null,
      "outputs": []
    }
  ]
}