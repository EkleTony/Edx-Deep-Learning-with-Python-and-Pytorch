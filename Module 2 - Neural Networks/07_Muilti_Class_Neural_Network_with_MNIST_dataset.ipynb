{
 "cells": [
  {
   "cell_type": "markdown",
   "metadata": {
    "id": "5d_QVKe-X9wS"
   },
   "source": [
    "# Multi-Class Neural Networks with MNIST"
   ]
  },
  {
   "cell_type": "markdown",
   "metadata": {
    "id": "5uYb-jhNX9zq"
   },
   "source": [
    "## Table of Contents\n",
    "In this lab, you will use a single layer neural network to classify handwritten digits from the MNIST database.\n",
    "\n",
    "* Neural Network Module and Training Function\n",
    "* Make Some Data\n",
    "* Define the Neural Network, Optimizer, and Train the Model\n",
    "* Analyze Results"
   ]
  },
  {
   "cell_type": "code",
   "execution_count": 14,
   "metadata": {
    "id": "JgJ_ZnqIYNSQ"
   },
   "outputs": [],
   "source": [
    "# importing libraries\n",
    "\n",
    "import torch\n",
    "import torch.nn as nn\n",
    "import torchvision.transforms as transforms"
   ]
  },
  {
   "cell_type": "code",
   "execution_count": 15,
   "metadata": {
    "id": "jpq2xg2tYNbO"
   },
   "outputs": [],
   "source": [
    "import torchvision.datasets as dsets"
   ]
  },
  {
   "cell_type": "code",
   "execution_count": 16,
   "metadata": {
    "id": "72IXAlk8Y4eo"
   },
   "outputs": [],
   "source": [
    "import torch.nn.functional as F\n",
    "import matplotlib.pylab as plt\n",
    "import numpy as np"
   ]
  },
  {
   "cell_type": "markdown",
   "metadata": {
    "id": "5kGHXDq8ZiQF"
   },
   "source": [
    "# Helper function for plotting the loss"
   ]
  },
  {
   "cell_type": "code",
   "execution_count": 34,
   "metadata": {
    "id": "GBLDNWi1uy_5"
   },
   "outputs": [],
   "source": [
    "# Define a function to plot accuracy and loss\n",
    "\n",
    "def plot_accuracy_loss(training_results): \n",
    "    plt.subplot(2, 1, 1)\n",
    "    plt.plot(training_results['training_loss'], 'r')\n",
    "    plt.ylabel('loss')\n",
    "    plt.title('training loss iterations')\n",
    "    plt.subplot(2, 1, 2)\n",
    "    plt.plot(training_results['validation_accuracy'])\n",
    "    plt.ylabel('accuracy')\n",
    "    plt.xlabel('epochs')   \n",
    "    plt.show()"
   ]
  },
  {
   "cell_type": "code",
   "execution_count": 17,
   "metadata": {
    "id": "RG5JemwiZc8-"
   },
   "outputs": [],
   "source": [
    "# Define a function to plot model parameters\n",
    "\n",
    "def print_model_parameters(model):\n",
    "  count = 0\n",
    "  for element in model.state_dict():\n",
    "    count += 1\n",
    "    if count % 2 != 0:\n",
    "      print('The following are the parameters for the layer', count // 2 +1)\n",
    "    if element.find('bias') != -1:\n",
    "      print('The size of bias: ', model.state_dict()[element].size())\n",
    "    else:\n",
    "      print('The size of weights: ', model.state_dict()[element].size())\n",
    "    "
   ]
  },
  {
   "cell_type": "markdown",
   "metadata": {
    "id": "ML3w1FLfdbyQ"
   },
   "source": [
    "Define the Neural Network module or class"
   ]
  },
  {
   "cell_type": "code",
   "execution_count": 18,
   "metadata": {
    "id": "nSakcxAMdanF"
   },
   "outputs": [],
   "source": [
    "# Define a function to display data\n",
    "\n",
    "def show_data(data_sample):\n",
    "  plt.imshow(data_sample.numpy().reshape(28, 28), cmap ='gray')\n",
    "  plt.show()"
   ]
  },
  {
   "cell_type": "markdown",
   "metadata": {
    "id": "sWrqW-q6d3N9"
   },
   "source": [
    "# Neural Network Module and Training function"
   ]
  },
  {
   "cell_type": "code",
   "execution_count": 19,
   "metadata": {
    "id": "h6EaskuAdwkc"
   },
   "outputs": [],
   "source": [
    "# Define the neural network module or class\n",
    "class Net(nn.Module):\n",
    "  #constructor\n",
    "  def __init__(self, D_in, H, D_out):\n",
    "    super(Net, self).__init__()\n",
    "    self.linear1 = nn.Linear(D_in, H)\n",
    "    self.linear2 = nn.Linear(H, D_out)\n",
    "\n",
    "  # Prediction\n",
    "  def forward(self, x):\n",
    "    x = torch.sigmoid(self.linear1(x))\n",
    "    x = self.linear2(x)\n",
    "    return x\n"
   ]
  },
  {
   "cell_type": "markdown",
   "metadata": {
    "id": "2sAus46ogNyw"
   },
   "source": [
    "Define a function to train the model. In this case, the function returns a Python dictionary to store the training loss and accuracy on the validation data. "
   ]
  },
  {
   "cell_type": "code",
   "execution_count": 38,
   "metadata": {
    "id": "DouP0NBseA6j"
   },
   "outputs": [],
   "source": [
    "# Define a training fucntion to train the model\n",
    "\n",
    "def train(model, criterion, train_loader, validation_loader, optimizer, epochs =100):\n",
    "  i = 0\n",
    "  useful_stuff = {'training_loss': [], 'validation_accuracy': []}\n",
    "  for epoch in range(epochs):\n",
    "    for i, (x,y) in enumerate(train_loader):\n",
    "      optimizer.zero_grad()\n",
    "      z= model(x.view(-1, 28 * 28))\n",
    "      loss = criterion(z, y)\n",
    "      loss.backward()\n",
    "      optimizer.step()\n",
    "      #loss for every iteration\n",
    "      useful_stuff['training_loss'].append(loss.data.item())\n",
    "    correct = 0\n",
    "    for x, y in validation_loader:\n",
    "      #validation\n",
    "      z = model(x.view(-1, 28 * 28))\n",
    "      _, label = torch.max(z, 1)\n",
    "      correct += (label == y).sum().item()\n",
    "    accuracy = 100 * (correct / len(validation_dataset))\n",
    "    useful_stuff['validation_accuracy'].append(accuracy)\n",
    "  return useful_stuff\n"
   ]
  },
  {
   "cell_type": "markdown",
   "metadata": {
    "id": "HD9lfPE-ikT9"
   },
   "source": [
    "# Make some data\n",
    "\n",
    "Load the training dataset by setting the parameters `train` to `True` and convert it to a tensor by placing a transform object in the argument `transform`"
   ]
  },
  {
   "cell_type": "code",
   "execution_count": 39,
   "metadata": {
    "id": "6-ZeQfsigSOS"
   },
   "outputs": [],
   "source": [
    "# Create training dataset\n",
    "\n",
    "train_dataset = dsets.MNIST(root='./data', train =True, download =True, transform = transforms.ToTensor())"
   ]
  },
  {
   "cell_type": "markdown",
   "metadata": {
    "id": "Vg_Q4nu1kdNq"
   },
   "source": [
    "Load the testing dataset by setting the parameters `train` to `False` and convert it to a tensor by placing a transform object in the argument `transform`"
   ]
  },
  {
   "cell_type": "code",
   "execution_count": 40,
   "metadata": {
    "id": "bjPT8KuNj3LH"
   },
   "outputs": [],
   "source": [
    "# Creating validation dataset\n",
    "\n",
    "validation_dataset = dsets.MNIST(root ='./data', train=False, download=True, transform = transforms.ToTensor())"
   ]
  },
  {
   "cell_type": "code",
   "execution_count": 41,
   "metadata": {
    "colab": {
     "base_uri": "https://localhost:8080/"
    },
    "id": "D1zo8oVplF4G",
    "outputId": "5ffae755-3904-46a3-be19-30030175a5c9"
   },
   "outputs": [
    {
     "data": {
      "text/plain": [
       "Dataset MNIST\n",
       "    Number of datapoints: 60000\n",
       "    Root location: ./data\n",
       "    Split: Train\n",
       "    StandardTransform\n",
       "Transform: ToTensor()"
      ]
     },
     "execution_count": 41,
     "metadata": {},
     "output_type": "execute_result"
    }
   ],
   "source": [
    "train_dataset"
   ]
  },
  {
   "cell_type": "markdown",
   "metadata": {
    "id": "P-10ZpE1mII_"
   },
   "source": [
    "Create the Criterion function"
   ]
  },
  {
   "cell_type": "code",
   "execution_count": 42,
   "metadata": {
    "id": "IWh87ZPJl8X-"
   },
   "outputs": [],
   "source": [
    "# Create criterion funcion\n",
    "criterion = nn.CrossEntropyLoss()"
   ]
  },
  {
   "cell_type": "code",
   "execution_count": 43,
   "metadata": {
    "id": "KOFk2cEDmSUl"
   },
   "outputs": [],
   "source": [
    "# Create data loader for both train dataset and validataion dataset\n",
    "\n",
    "train_loader = torch.utils.data.DataLoader(dataset=train_dataset, batch_size=2000, shuffle =True)\n",
    "validation_loader = torch.utils.data.DataLoader(dataset=validation_dataset, batch_size =5000, shuffle = False)"
   ]
  },
  {
   "cell_type": "markdown",
   "metadata": {
    "id": "It0m3OILn9Wp"
   },
   "source": [
    "# Define the Neural Network, Optimizer and Train the model"
   ]
  },
  {
   "cell_type": "code",
   "execution_count": 44,
   "metadata": {
    "id": "d6h8nCm5oF2p"
   },
   "outputs": [],
   "source": [
    "# Create the  model with 100 neurons"
   ]
  },
  {
   "cell_type": "code",
   "execution_count": 45,
   "metadata": {
    "id": "_TFAmgrgsXn6"
   },
   "outputs": [],
   "source": [
    "input_dim = 28 * 28\n",
    "hidden_dim = 100\n",
    "output_dim = 10\n",
    "\n",
    "model = Net(input_dim, hidden_dim, output_dim)"
   ]
  },
  {
   "cell_type": "code",
   "execution_count": 46,
   "metadata": {
    "colab": {
     "base_uri": "https://localhost:8080/"
    },
    "id": "6ENfilw2s5q4",
    "outputId": "e03d4e0e-fbfd-4ead-8b3c-83c07ba205c8"
   },
   "outputs": [
    {
     "name": "stdout",
     "output_type": "stream",
     "text": [
      "The following are the parameters for the layer 1\n",
      "The size of weights:  torch.Size([100, 784])\n",
      "The size of bias:  torch.Size([100])\n",
      "The following are the parameters for the layer 2\n",
      "The size of weights:  torch.Size([10, 100])\n",
      "The size of bias:  torch.Size([10])\n"
     ]
    }
   ],
   "source": [
    "#Print the parameters for mod\n",
    "\n",
    "print_model_parameters(model)"
   ]
  },
  {
   "cell_type": "markdown",
   "metadata": {
    "id": "ijd2MbWPtdNs"
   },
   "source": [
    "Define the Optimizer object with a learning rate of 0.01"
   ]
  },
  {
   "cell_type": "code",
   "execution_count": 47,
   "metadata": {
    "id": "m3DQXxt4tLO5"
   },
   "outputs": [],
   "source": [
    "learning_rate = 0.01\n",
    "\n",
    "optimizer = torch.optim.SGD(model.parameters(), lr = learning_rate)"
   ]
  },
  {
   "cell_type": "code",
   "execution_count": 53,
   "metadata": {
    "id": "MmIDUNGLvUj1"
   },
   "outputs": [],
   "source": [
    "# train the model\n",
    "\n",
    "training_results = train(model, criterion, train_loader, validation_loader, optimizer, epochs =100)"
   ]
  },
  {
   "cell_type": "markdown",
   "metadata": {
    "id": "8ZEAEQMOt8P6"
   },
   "source": [
    "# Analyze Results\n",
    "\n",
    "plot the training total loss or cost for every iteration and plot the training accuracy for every epoch"
   ]
  },
  {
   "cell_type": "code",
   "execution_count": 54,
   "metadata": {
    "colab": {
     "base_uri": "https://localhost:8080/",
     "height": 295
    },
    "id": "b0s8wQD7ttJV",
    "outputId": "fb35283e-c793-4ad1-c4fc-cee1c88458a7"
   },
   "outputs": [
    {
     "data": {
      "image/png": "[encoded data removed]",
      "text/plain": [
       "<Figure size 432x288 with 2 Axes>"
      ]
     },
     "metadata": {
      "needs_background": "light"
     },
     "output_type": "display_data"
    }
   ],
   "source": [
    "# Plot the accuracy and loss\n",
    "\n",
    "plot_accuracy_loss(training_results)"
   ]
  },
  {
   "cell_type": "markdown",
   "metadata": {
    "id": "M7ToSr-12UxC"
   },
   "source": [
    "Plot the first five misclassified samples"
   ]
  },
  {
   "cell_type": "code",
   "execution_count": 56,
   "metadata": {
    "colab": {
     "base_uri": "https://localhost:8080/",
     "height": 1000
    },
    "id": "SxK-ABCdulKx",
    "outputId": "3a06edaf-c294-447a-a232-baf051469d5c"
   },
   "outputs": [
    {
     "data": {
      "image/png": "[encoded data removed]",
      "text/plain": [
       "<Figure size 432x288 with 1 Axes>"
      ]
     },
     "metadata": {
      "needs_background": "light"
     },
     "output_type": "display_data"
    },
    {
     "data": {
      "image/png": "[encoded data removed]",
      "text/plain": [
       "<Figure size 432x288 with 1 Axes>"
      ]
     },
     "metadata": {
      "needs_background": "light"
     },
     "output_type": "display_data"
    },
    {
     "data": {
      "image/png": "[encoded data removed]",
      "text/plain": [
       "<Figure size 432x288 with 1 Axes>"
      ]
     },
     "metadata": {
      "needs_background": "light"
     },
     "output_type": "display_data"
    },
    {
     "data": {
      "image/png": "[encoded data removed]",
      "text/plain": [
       "<Figure size 432x288 with 1 Axes>"
      ]
     },
     "metadata": {
      "needs_background": "light"
     },
     "output_type": "display_data"
    },
    {
     "data": {
      "image/png": "[encoded data removed]",
      "text/plain": [
       "<Figure size 432x288 with 1 Axes>"
      ]
     },
     "metadata": {
      "needs_background": "light"
     },
     "output_type": "display_data"
    }
   ],
   "source": [
    "count = 0\n",
    "for x, y in validation_dataset:\n",
    "  z =  model(x.reshape(-1, 28 *28))\n",
    "  _, yhat = torch.max(z, 1)\n",
    "  if yhat != y:\n",
    "    show_data(x)\n",
    "    count += 1\n",
    "  if count >= 5:\n",
    "    break"
   ]
  },
  {
   "cell_type": "markdown",
   "metadata": {
    "id": "jRDSZLmv2UA8"
   },
   "source": []
  }
 ],
 "metadata": {
  "colab": {
   "collapsed_sections": [],
   "name": "07 Muilti Class Neural Network with MNIST dataset.ipynb",
   "provenance": []
  },
  "kernelspec": {
   "display_name": "Python 3",
   "language": "python",
   "name": "python3"
  },
  "language_info": {
   "codemirror_mode": {
    "name": "ipython",
    "version": 3
   },
   "file_extension": ".py",
   "mimetype": "text/x-python",
   "name": "python",
   "nbconvert_exporter": "python",
   "pygments_lexer": "ipython3",
   "version": "3.6.10"
  }
 },
 "nbformat": 4,
 "nbformat_minor": 1
}
