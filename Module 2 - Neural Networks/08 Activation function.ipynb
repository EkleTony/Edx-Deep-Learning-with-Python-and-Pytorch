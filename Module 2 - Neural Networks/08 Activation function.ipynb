{
 "cells": [
  {
   "cell_type": "markdown",
   "metadata": {},
   "source": [
    "# Activation Functions\n",
    "## Table of Contents\n",
    "In this lab, you will cover logistic regression by using PyTorch.\n",
    "\n",
    "* Logistic Function\n",
    "* Tanh\n",
    "* Relu\n",
    "* Compare Activation Functions"
   ]
  },
  {
   "cell_type": "code",
   "execution_count": 1,
   "metadata": {},
   "outputs": [
    {
     "data": {
      "text/plain": [
       "<torch._C.Generator at 0x2695bb6c4f0>"
      ]
     },
     "execution_count": 1,
     "metadata": {},
     "output_type": "execute_result"
    }
   ],
   "source": [
    "# library\n",
    "\n",
    "import torch.nn as nn\n",
    "import torch\n",
    "\n",
    "import matplotlib.pyplot as plt\n",
    "torch.manual_seed(2)"
   ]
  },
  {
   "cell_type": "markdown",
   "metadata": {},
   "source": [
    "# Logistic Function\n",
    "\n",
    "Create a tensor"
   ]
  },
  {
   "cell_type": "code",
   "execution_count": 43,
   "metadata": {},
   "outputs": [],
   "source": [
    "# a tensor ranging from -10 to 10\n",
    "\n",
    "z = torch.arange(-10, 10, 0.1).view(-1, 1)"
   ]
  },
  {
   "cell_type": "code",
   "execution_count": 44,
   "metadata": {},
   "outputs": [
    {
     "name": "stdout",
     "output_type": "stream",
     "text": [
      "tensor([[-10.0000],\n",
      "        [ -9.9000],\n",
      "        [ -9.8000],\n",
      "        [ -9.7000],\n",
      "        [ -9.6000],\n",
      "        [ -9.5000],\n",
      "        [ -9.4000],\n",
      "        [ -9.3000],\n",
      "        [ -9.2000],\n",
      "        [ -9.1000],\n",
      "        [ -9.0000],\n",
      "        [ -8.9000],\n",
      "        [ -8.8000],\n",
      "        [ -8.7000],\n",
      "        [ -8.6000],\n",
      "        [ -8.5000],\n",
      "        [ -8.4000],\n",
      "        [ -8.3000],\n",
      "        [ -8.2000],\n",
      "        [ -8.1000],\n",
      "        [ -8.0000],\n",
      "        [ -7.9000],\n",
      "        [ -7.8000],\n",
      "        [ -7.7000],\n",
      "        [ -7.6000],\n",
      "        [ -7.5000],\n",
      "        [ -7.4000],\n",
      "        [ -7.3000],\n",
      "        [ -7.2000],\n",
      "        [ -7.1000],\n",
      "        [ -7.0000],\n",
      "        [ -6.9000],\n",
      "        [ -6.8000],\n",
      "        [ -6.7000],\n",
      "        [ -6.6000],\n",
      "        [ -6.5000],\n",
      "        [ -6.4000],\n",
      "        [ -6.3000],\n",
      "        [ -6.2000],\n",
      "        [ -6.1000],\n",
      "        [ -6.0000],\n",
      "        [ -5.9000],\n",
      "        [ -5.8000],\n",
      "        [ -5.7000],\n",
      "        [ -5.6000],\n",
      "        [ -5.5000],\n",
      "        [ -5.4000],\n",
      "        [ -5.3000],\n",
      "        [ -5.2000],\n",
      "        [ -5.1000],\n",
      "        [ -5.0000],\n",
      "        [ -4.9000],\n",
      "        [ -4.8000],\n",
      "        [ -4.7000],\n",
      "        [ -4.6000],\n",
      "        [ -4.5000],\n",
      "        [ -4.4000],\n",
      "        [ -4.3000],\n",
      "        [ -4.2000],\n",
      "        [ -4.1000],\n",
      "        [ -4.0000],\n",
      "        [ -3.9000],\n",
      "        [ -3.8000],\n",
      "        [ -3.7000],\n",
      "        [ -3.6000],\n",
      "        [ -3.5000],\n",
      "        [ -3.4000],\n",
      "        [ -3.3000],\n",
      "        [ -3.2000],\n",
      "        [ -3.1000],\n",
      "        [ -3.0000],\n",
      "        [ -2.9000],\n",
      "        [ -2.8000],\n",
      "        [ -2.7000],\n",
      "        [ -2.6000],\n",
      "        [ -2.5000],\n",
      "        [ -2.4000],\n",
      "        [ -2.3000],\n",
      "        [ -2.2000],\n",
      "        [ -2.1000],\n",
      "        [ -2.0000],\n",
      "        [ -1.9000],\n",
      "        [ -1.8000],\n",
      "        [ -1.7000],\n",
      "        [ -1.6000],\n",
      "        [ -1.5000],\n",
      "        [ -1.4000],\n",
      "        [ -1.3000],\n",
      "        [ -1.2000],\n",
      "        [ -1.1000],\n",
      "        [ -1.0000],\n",
      "        [ -0.9000],\n",
      "        [ -0.8000],\n",
      "        [ -0.7000],\n",
      "        [ -0.6000],\n",
      "        [ -0.5000],\n",
      "        [ -0.4000],\n",
      "        [ -0.3000],\n",
      "        [ -0.2000],\n",
      "        [ -0.1000],\n",
      "        [  0.0000],\n",
      "        [  0.1000],\n",
      "        [  0.2000],\n",
      "        [  0.3000],\n",
      "        [  0.4000],\n",
      "        [  0.5000],\n",
      "        [  0.6000],\n",
      "        [  0.7000],\n",
      "        [  0.8000],\n",
      "        [  0.9000],\n",
      "        [  1.0000],\n",
      "        [  1.1000],\n",
      "        [  1.2000],\n",
      "        [  1.3000],\n",
      "        [  1.4000],\n",
      "        [  1.5000],\n",
      "        [  1.6000],\n",
      "        [  1.7000],\n",
      "        [  1.8000],\n",
      "        [  1.9000],\n",
      "        [  2.0000],\n",
      "        [  2.1000],\n",
      "        [  2.2000],\n",
      "        [  2.3000],\n",
      "        [  2.4000],\n",
      "        [  2.5000],\n",
      "        [  2.6000],\n",
      "        [  2.7000],\n",
      "        [  2.8000],\n",
      "        [  2.9000],\n",
      "        [  3.0000],\n",
      "        [  3.1000],\n",
      "        [  3.2000],\n",
      "        [  3.3000],\n",
      "        [  3.4000],\n",
      "        [  3.5000],\n",
      "        [  3.6000],\n",
      "        [  3.7000],\n",
      "        [  3.8000],\n",
      "        [  3.9000],\n",
      "        [  4.0000],\n",
      "        [  4.1000],\n",
      "        [  4.2000],\n",
      "        [  4.3000],\n",
      "        [  4.4000],\n",
      "        [  4.5000],\n",
      "        [  4.6000],\n",
      "        [  4.7000],\n",
      "        [  4.8000],\n",
      "        [  4.9000],\n",
      "        [  5.0000],\n",
      "        [  5.1000],\n",
      "        [  5.2000],\n",
      "        [  5.3000],\n",
      "        [  5.4000],\n",
      "        [  5.5000],\n",
      "        [  5.6000],\n",
      "        [  5.7000],\n",
      "        [  5.8000],\n",
      "        [  5.9000],\n",
      "        [  6.0000],\n",
      "        [  6.1000],\n",
      "        [  6.2000],\n",
      "        [  6.3000],\n",
      "        [  6.4000],\n",
      "        [  6.5000],\n",
      "        [  6.6000],\n",
      "        [  6.7000],\n",
      "        [  6.8000],\n",
      "        [  6.9000],\n",
      "        [  7.0000],\n",
      "        [  7.1000],\n",
      "        [  7.2000],\n",
      "        [  7.3000],\n",
      "        [  7.4000],\n",
      "        [  7.5000],\n",
      "        [  7.6000],\n",
      "        [  7.7000],\n",
      "        [  7.8000],\n",
      "        [  7.9000],\n",
      "        [  8.0000],\n",
      "        [  8.1000],\n",
      "        [  8.2000],\n",
      "        [  8.3000],\n",
      "        [  8.4000],\n",
      "        [  8.5000],\n",
      "        [  8.6000],\n",
      "        [  8.7000],\n",
      "        [  8.8000],\n",
      "        [  8.9000],\n",
      "        [  9.0000],\n",
      "        [  9.1000],\n",
      "        [  9.2000],\n",
      "        [  9.3000],\n",
      "        [  9.4000],\n",
      "        [  9.5000],\n",
      "        [  9.6000],\n",
      "        [  9.7000],\n",
      "        [  9.8000],\n",
      "        [  9.9000]])\n"
     ]
    }
   ],
   "source": [
    "print(z)"
   ]
  },
  {
   "cell_type": "markdown",
   "metadata": {},
   "source": [
    " Create the sigmoid object"
   ]
  },
  {
   "cell_type": "code",
   "execution_count": 45,
   "metadata": {},
   "outputs": [],
   "source": [
    "sig = nn.Sigmoid()"
   ]
  },
  {
   "cell_type": "markdown",
   "metadata": {},
   "source": [
    "Applying the element-wise function sigmoid with the object"
   ]
  },
  {
   "cell_type": "code",
   "execution_count": 46,
   "metadata": {},
   "outputs": [],
   "source": [
    "# Make a prediction of sigmoid function\n",
    "\n",
    "yhat = sig(z)"
   ]
  },
  {
   "cell_type": "markdown",
   "metadata": {},
   "source": [
    "Plotting the results"
   ]
  },
  {
   "cell_type": "code",
   "execution_count": 47,
   "metadata": {},
   "outputs": [
    {
     "data": {
      "text/plain": [
       "Text(0, 0.5, 'yhat')"
      ]
     },
     "execution_count": 47,
     "metadata": {},
     "output_type": "execute_result"
    },
    {
     "data": {
      "image/png": "[encoded data removed]",
      "text/plain": [
       "<Figure size 432x288 with 1 Axes>"
      ]
     },
     "metadata": {
      "needs_background": "light"
     },
     "output_type": "display_data"
    }
   ],
   "source": [
    "# plot the result\n",
    "\n",
    "plt.plot(z.detach().numpy(), yhat.detach().numpy())\n",
    "plt.xlabel('z')\n",
    "plt.ylabel('yhat')"
   ]
  },
  {
   "cell_type": "markdown",
   "metadata": {},
   "source": [
    "Use the build in function to predict the result\n"
   ]
  },
  {
   "cell_type": "code",
   "execution_count": 48,
   "metadata": {},
   "outputs": [
    {
     "data": {
      "image/png": "[encoded data removed]",
      "text/plain": [
       "<Figure size 432x288 with 1 Axes>"
      ]
     },
     "metadata": {
      "needs_background": "light"
     },
     "output_type": "display_data"
    }
   ],
   "source": [
    "yhat = torch.sigmoid(z)\n",
    "plt.plot(z.numpy(), yhat.numpy())\n",
    "\n",
    "plt.show()"
   ]
  },
  {
   "cell_type": "markdown",
   "metadata": {},
   "source": [
    "# Tanh activation functon"
   ]
  },
  {
   "cell_type": "code",
   "execution_count": 49,
   "metadata": {},
   "outputs": [],
   "source": [
    "tanh = nn.Tanh()"
   ]
  },
  {
   "cell_type": "code",
   "execution_count": 50,
   "metadata": {},
   "outputs": [
    {
     "data": {
      "image/png": "[encoded data removed]",
      "text/plain": [
       "<Figure size 432x288 with 1 Axes>"
      ]
     },
     "metadata": {
      "needs_background": "light"
     },
     "output_type": "display_data"
    }
   ],
   "source": [
    "#making the prediction using tanh object\n",
    "\n",
    "yhat = tanh(z)\n",
    "plt.plot(z.numpy(), yhat.numpy())\n",
    "plt.show()"
   ]
  },
  {
   "cell_type": "markdown",
   "metadata": {},
   "source": [
    " Make the prediction using the build-in tanh object\n"
   ]
  },
  {
   "cell_type": "code",
   "execution_count": 51,
   "metadata": {},
   "outputs": [
    {
     "data": {
      "image/png": "[encoded data removed]",
      "text/plain": [
       "<Figure size 432x288 with 1 Axes>"
      ]
     },
     "metadata": {
      "needs_background": "light"
     },
     "output_type": "display_data"
    }
   ],
   "source": [
    "yhat = torch.tanh(z)\n",
    "plt.plot(z.numpy(), yhat.numpy())\n",
    "plt.show()"
   ]
  },
  {
   "cell_type": "markdown",
   "metadata": {},
   "source": [
    "# Relu"
   ]
  },
  {
   "cell_type": "code",
   "execution_count": 52,
   "metadata": {},
   "outputs": [
    {
     "data": {
      "text/plain": [
       "[<matplotlib.lines.Line2D at 0x2695d29c4e0>]"
      ]
     },
     "execution_count": 52,
     "metadata": {},
     "output_type": "execute_result"
    },
    {
     "data": {
      "image/png": "[encoded data removed]",
      "text/plain": [
       "<Figure size 432x288 with 1 Axes>"
      ]
     },
     "metadata": {
      "needs_background": "light"
     },
     "output_type": "display_data"
    }
   ],
   "source": [
    "Relu = nn.ReLU()\n",
    "yhat = Relu(z)\n",
    "plt.plot(z.numpy(), yhat.numpy())"
   ]
  },
  {
   "cell_type": "markdown",
   "metadata": {},
   "source": [
    " Use the build-in function to make the prediction\n"
   ]
  },
  {
   "cell_type": "code",
   "execution_count": 53,
   "metadata": {},
   "outputs": [
    {
     "data": {
      "image/png": "[encoded data removed]",
      "text/plain": [
       "<Figure size 432x288 with 1 Axes>"
      ]
     },
     "metadata": {
      "needs_background": "light"
     },
     "output_type": "display_data"
    }
   ],
   "source": [
    "yhat = torch.relu(z)\n",
    "plt.plot(z.numpy(), yhat.numpy())\n",
    "plt.show()"
   ]
  },
  {
   "cell_type": "markdown",
   "metadata": {},
   "source": [
    " <a id=\"ref3\"></a>\n",
    "\n",
    "<h2> Compare Activation Functions </h2>\n"
   ]
  },
  {
   "cell_type": "code",
   "execution_count": 58,
   "metadata": {},
   "outputs": [
    {
     "data": {
      "text/plain": [
       "<matplotlib.legend.Legend at 0x2695e4234e0>"
      ]
     },
     "execution_count": 58,
     "metadata": {},
     "output_type": "execute_result"
    },
    {
     "data": {
      "image/png": "[encoded data removed]",
      "text/plain": [
       "<Figure size 432x288 with 1 Axes>"
      ]
     },
     "metadata": {
      "needs_background": "light"
     },
     "output_type": "display_data"
    }
   ],
   "source": [
    "x = torch.arange(-2, 2, 0.1).view(-1,1)\n",
    "plt.plot(x.numpy(), torch.relu(x).numpy(), label = 'Relu')\n",
    "plt.plot(x.numpy(), torch.sigmoid(x).numpy(), label = 'Sigmoid')\n",
    "plt.plot(x.numpy(), torch.tanh(x).numpy(), label = 'Tanh')\n",
    "plt.legend()"
   ]
  },
  {
   "cell_type": "markdown",
   "metadata": {},
   "source": [
    "using the range (-1, 1)"
   ]
  },
  {
   "cell_type": "code",
   "execution_count": 59,
   "metadata": {},
   "outputs": [
    {
     "data": {
      "text/plain": [
       "<matplotlib.legend.Legend at 0x2695d26ab70>"
      ]
     },
     "execution_count": 59,
     "metadata": {},
     "output_type": "execute_result"
    },
    {
     "data": {
      "image/png": "[encoded data removed]",
      "text/plain": [
       "<Figure size 432x288 with 1 Axes>"
      ]
     },
     "metadata": {
      "needs_background": "light"
     },
     "output_type": "display_data"
    }
   ],
   "source": [
    "x = torch.arange(-1, 1, 0.1).view(-1,1)\n",
    "plt.plot(x.numpy(), torch.relu(x).numpy(), label = 'Relu')\n",
    "plt.plot(x.numpy(), torch.sigmoid(x).numpy(), label = 'Sigmoid')\n",
    "plt.plot(x.numpy(), torch.tanh(x).numpy(), label = 'Tanh')\n",
    "plt.legend()"
   ]
  },
  {
   "cell_type": "code",
   "execution_count": null,
   "metadata": {},
   "outputs": [],
   "source": []
  }
 ],
 "metadata": {
  "kernelspec": {
   "display_name": "Python 3.6 (tensorflow)",
   "language": "python",
   "name": "tensorflow"
  },
  "language_info": {
   "codemirror_mode": {
    "name": "ipython",
    "version": 3
   },
   "file_extension": ".py",
   "mimetype": "text/x-python",
   "name": "python",
   "nbconvert_exporter": "python",
   "pygments_lexer": "ipython3",
   "version": "3.6.10"
  }
 },
 "nbformat": 4,
 "nbformat_minor": 4
}
